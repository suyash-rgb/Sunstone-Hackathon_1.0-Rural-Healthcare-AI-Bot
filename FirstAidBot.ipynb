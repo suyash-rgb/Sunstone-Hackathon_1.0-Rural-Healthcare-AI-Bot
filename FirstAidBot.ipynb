{
  "nbformat": 4,
  "nbformat_minor": 0,
  "metadata": {
    "colab": {
      "provenance": [],
      "toc_visible": true,
      "gpuType": "T4",
      "authorship_tag": "ABX9TyNg2VN1JaDGQHkm3enL2RGT",
      "include_colab_link": true
    },
    "kernelspec": {
      "name": "python3",
      "display_name": "Python 3"
    },
    "language_info": {
      "name": "python"
    },
    "accelerator": "GPU",
    "widgets": {
      "application/vnd.jupyter.widget-state+json": {
        "ec7ad726c81d43c89314018382ab39e3": {
          "model_module": "@jupyter-widgets/controls",
          "model_name": "HBoxModel",
          "model_module_version": "1.5.0",
          "state": {
            "_dom_classes": [],
            "_model_module": "@jupyter-widgets/controls",
            "_model_module_version": "1.5.0",
            "_model_name": "HBoxModel",
            "_view_count": null,
            "_view_module": "@jupyter-widgets/controls",
            "_view_module_version": "1.5.0",
            "_view_name": "HBoxView",
            "box_style": "",
            "children": [
              "IPY_MODEL_8eefe274d34b47849dd86973a5e82dc1",
              "IPY_MODEL_042fe400fb5a49fa86cf9215a9a2df7f",
              "IPY_MODEL_b088300e7c56409db25744e6f623e53b"
            ],
            "layout": "IPY_MODEL_45413f27ad24499faa3c980ca8998d51"
          }
        },
        "8eefe274d34b47849dd86973a5e82dc1": {
          "model_module": "@jupyter-widgets/controls",
          "model_name": "HTMLModel",
          "model_module_version": "1.5.0",
          "state": {
            "_dom_classes": [],
            "_model_module": "@jupyter-widgets/controls",
            "_model_module_version": "1.5.0",
            "_model_name": "HTMLModel",
            "_view_count": null,
            "_view_module": "@jupyter-widgets/controls",
            "_view_module_version": "1.5.0",
            "_view_name": "HTMLView",
            "description": "",
            "description_tooltip": null,
            "layout": "IPY_MODEL_1613f1ccb37d4dfd8b9dae35fbbdce13",
            "placeholder": "​",
            "style": "IPY_MODEL_19058ddafee0480fa9408b111ae00ae2",
            "value": "Generating train split: "
          }
        },
        "042fe400fb5a49fa86cf9215a9a2df7f": {
          "model_module": "@jupyter-widgets/controls",
          "model_name": "FloatProgressModel",
          "model_module_version": "1.5.0",
          "state": {
            "_dom_classes": [],
            "_model_module": "@jupyter-widgets/controls",
            "_model_module_version": "1.5.0",
            "_model_name": "FloatProgressModel",
            "_view_count": null,
            "_view_module": "@jupyter-widgets/controls",
            "_view_module_version": "1.5.0",
            "_view_name": "ProgressView",
            "bar_style": "success",
            "description": "",
            "description_tooltip": null,
            "layout": "IPY_MODEL_ed457527aaf34e9f83944283e6cef74b",
            "max": 1,
            "min": 0,
            "orientation": "horizontal",
            "style": "IPY_MODEL_e68f3348c76745018b6942a78f071faa",
            "value": 1
          }
        },
        "b088300e7c56409db25744e6f623e53b": {
          "model_module": "@jupyter-widgets/controls",
          "model_name": "HTMLModel",
          "model_module_version": "1.5.0",
          "state": {
            "_dom_classes": [],
            "_model_module": "@jupyter-widgets/controls",
            "_model_module_version": "1.5.0",
            "_model_name": "HTMLModel",
            "_view_count": null,
            "_view_module": "@jupyter-widgets/controls",
            "_view_module_version": "1.5.0",
            "_view_name": "HTMLView",
            "description": "",
            "description_tooltip": null,
            "layout": "IPY_MODEL_1371e0a3a08b4bf88b59d7ad2ecf779f",
            "placeholder": "​",
            "style": "IPY_MODEL_6677895ee5d84c73ba843d4709bf7c76",
            "value": " 153499/0 [00:00&lt;00:00, 158808.40 examples/s]"
          }
        },
        "45413f27ad24499faa3c980ca8998d51": {
          "model_module": "@jupyter-widgets/base",
          "model_name": "LayoutModel",
          "model_module_version": "1.2.0",
          "state": {
            "_model_module": "@jupyter-widgets/base",
            "_model_module_version": "1.2.0",
            "_model_name": "LayoutModel",
            "_view_count": null,
            "_view_module": "@jupyter-widgets/base",
            "_view_module_version": "1.2.0",
            "_view_name": "LayoutView",
            "align_content": null,
            "align_items": null,
            "align_self": null,
            "border": null,
            "bottom": null,
            "display": null,
            "flex": null,
            "flex_flow": null,
            "grid_area": null,
            "grid_auto_columns": null,
            "grid_auto_flow": null,
            "grid_auto_rows": null,
            "grid_column": null,
            "grid_gap": null,
            "grid_row": null,
            "grid_template_areas": null,
            "grid_template_columns": null,
            "grid_template_rows": null,
            "height": null,
            "justify_content": null,
            "justify_items": null,
            "left": null,
            "margin": null,
            "max_height": null,
            "max_width": null,
            "min_height": null,
            "min_width": null,
            "object_fit": null,
            "object_position": null,
            "order": null,
            "overflow": null,
            "overflow_x": null,
            "overflow_y": null,
            "padding": null,
            "right": null,
            "top": null,
            "visibility": null,
            "width": null
          }
        },
        "1613f1ccb37d4dfd8b9dae35fbbdce13": {
          "model_module": "@jupyter-widgets/base",
          "model_name": "LayoutModel",
          "model_module_version": "1.2.0",
          "state": {
            "_model_module": "@jupyter-widgets/base",
            "_model_module_version": "1.2.0",
            "_model_name": "LayoutModel",
            "_view_count": null,
            "_view_module": "@jupyter-widgets/base",
            "_view_module_version": "1.2.0",
            "_view_name": "LayoutView",
            "align_content": null,
            "align_items": null,
            "align_self": null,
            "border": null,
            "bottom": null,
            "display": null,
            "flex": null,
            "flex_flow": null,
            "grid_area": null,
            "grid_auto_columns": null,
            "grid_auto_flow": null,
            "grid_auto_rows": null,
            "grid_column": null,
            "grid_gap": null,
            "grid_row": null,
            "grid_template_areas": null,
            "grid_template_columns": null,
            "grid_template_rows": null,
            "height": null,
            "justify_content": null,
            "justify_items": null,
            "left": null,
            "margin": null,
            "max_height": null,
            "max_width": null,
            "min_height": null,
            "min_width": null,
            "object_fit": null,
            "object_position": null,
            "order": null,
            "overflow": null,
            "overflow_x": null,
            "overflow_y": null,
            "padding": null,
            "right": null,
            "top": null,
            "visibility": null,
            "width": null
          }
        },
        "19058ddafee0480fa9408b111ae00ae2": {
          "model_module": "@jupyter-widgets/controls",
          "model_name": "DescriptionStyleModel",
          "model_module_version": "1.5.0",
          "state": {
            "_model_module": "@jupyter-widgets/controls",
            "_model_module_version": "1.5.0",
            "_model_name": "DescriptionStyleModel",
            "_view_count": null,
            "_view_module": "@jupyter-widgets/base",
            "_view_module_version": "1.2.0",
            "_view_name": "StyleView",
            "description_width": ""
          }
        },
        "ed457527aaf34e9f83944283e6cef74b": {
          "model_module": "@jupyter-widgets/base",
          "model_name": "LayoutModel",
          "model_module_version": "1.2.0",
          "state": {
            "_model_module": "@jupyter-widgets/base",
            "_model_module_version": "1.2.0",
            "_model_name": "LayoutModel",
            "_view_count": null,
            "_view_module": "@jupyter-widgets/base",
            "_view_module_version": "1.2.0",
            "_view_name": "LayoutView",
            "align_content": null,
            "align_items": null,
            "align_self": null,
            "border": null,
            "bottom": null,
            "display": null,
            "flex": null,
            "flex_flow": null,
            "grid_area": null,
            "grid_auto_columns": null,
            "grid_auto_flow": null,
            "grid_auto_rows": null,
            "grid_column": null,
            "grid_gap": null,
            "grid_row": null,
            "grid_template_areas": null,
            "grid_template_columns": null,
            "grid_template_rows": null,
            "height": null,
            "justify_content": null,
            "justify_items": null,
            "left": null,
            "margin": null,
            "max_height": null,
            "max_width": null,
            "min_height": null,
            "min_width": null,
            "object_fit": null,
            "object_position": null,
            "order": null,
            "overflow": null,
            "overflow_x": null,
            "overflow_y": null,
            "padding": null,
            "right": null,
            "top": null,
            "visibility": null,
            "width": "20px"
          }
        },
        "e68f3348c76745018b6942a78f071faa": {
          "model_module": "@jupyter-widgets/controls",
          "model_name": "ProgressStyleModel",
          "model_module_version": "1.5.0",
          "state": {
            "_model_module": "@jupyter-widgets/controls",
            "_model_module_version": "1.5.0",
            "_model_name": "ProgressStyleModel",
            "_view_count": null,
            "_view_module": "@jupyter-widgets/base",
            "_view_module_version": "1.2.0",
            "_view_name": "StyleView",
            "bar_color": null,
            "description_width": ""
          }
        },
        "1371e0a3a08b4bf88b59d7ad2ecf779f": {
          "model_module": "@jupyter-widgets/base",
          "model_name": "LayoutModel",
          "model_module_version": "1.2.0",
          "state": {
            "_model_module": "@jupyter-widgets/base",
            "_model_module_version": "1.2.0",
            "_model_name": "LayoutModel",
            "_view_count": null,
            "_view_module": "@jupyter-widgets/base",
            "_view_module_version": "1.2.0",
            "_view_name": "LayoutView",
            "align_content": null,
            "align_items": null,
            "align_self": null,
            "border": null,
            "bottom": null,
            "display": null,
            "flex": null,
            "flex_flow": null,
            "grid_area": null,
            "grid_auto_columns": null,
            "grid_auto_flow": null,
            "grid_auto_rows": null,
            "grid_column": null,
            "grid_gap": null,
            "grid_row": null,
            "grid_template_areas": null,
            "grid_template_columns": null,
            "grid_template_rows": null,
            "height": null,
            "justify_content": null,
            "justify_items": null,
            "left": null,
            "margin": null,
            "max_height": null,
            "max_width": null,
            "min_height": null,
            "min_width": null,
            "object_fit": null,
            "object_position": null,
            "order": null,
            "overflow": null,
            "overflow_x": null,
            "overflow_y": null,
            "padding": null,
            "right": null,
            "top": null,
            "visibility": null,
            "width": null
          }
        },
        "6677895ee5d84c73ba843d4709bf7c76": {
          "model_module": "@jupyter-widgets/controls",
          "model_name": "DescriptionStyleModel",
          "model_module_version": "1.5.0",
          "state": {
            "_model_module": "@jupyter-widgets/controls",
            "_model_module_version": "1.5.0",
            "_model_name": "DescriptionStyleModel",
            "_view_count": null,
            "_view_module": "@jupyter-widgets/base",
            "_view_module_version": "1.2.0",
            "_view_name": "StyleView",
            "description_width": ""
          }
        },
        "567f7a5974cb445eb87665404f042b89": {
          "model_module": "@jupyter-widgets/controls",
          "model_name": "HBoxModel",
          "model_module_version": "1.5.0",
          "state": {
            "_dom_classes": [],
            "_model_module": "@jupyter-widgets/controls",
            "_model_module_version": "1.5.0",
            "_model_name": "HBoxModel",
            "_view_count": null,
            "_view_module": "@jupyter-widgets/controls",
            "_view_module_version": "1.5.0",
            "_view_name": "HBoxView",
            "box_style": "",
            "children": [
              "IPY_MODEL_ac5a790747044ec2903edac7563ed21a",
              "IPY_MODEL_8da17836d29f4ddd8b7904118cb592ee",
              "IPY_MODEL_e5b3e42f29b042a582c47468e45b7fd0"
            ],
            "layout": "IPY_MODEL_ec096ddd62c146ad868bc95091234313"
          }
        },
        "ac5a790747044ec2903edac7563ed21a": {
          "model_module": "@jupyter-widgets/controls",
          "model_name": "HTMLModel",
          "model_module_version": "1.5.0",
          "state": {
            "_dom_classes": [],
            "_model_module": "@jupyter-widgets/controls",
            "_model_module_version": "1.5.0",
            "_model_name": "HTMLModel",
            "_view_count": null,
            "_view_module": "@jupyter-widgets/controls",
            "_view_module_version": "1.5.0",
            "_view_name": "HTMLView",
            "description": "",
            "description_tooltip": null,
            "layout": "IPY_MODEL_2835640ecb564b05a53789d81c192703",
            "placeholder": "​",
            "style": "IPY_MODEL_4b3e3c48894d4997b083434250895a05",
            "value": "Map: 100%"
          }
        },
        "8da17836d29f4ddd8b7904118cb592ee": {
          "model_module": "@jupyter-widgets/controls",
          "model_name": "FloatProgressModel",
          "model_module_version": "1.5.0",
          "state": {
            "_dom_classes": [],
            "_model_module": "@jupyter-widgets/controls",
            "_model_module_version": "1.5.0",
            "_model_name": "FloatProgressModel",
            "_view_count": null,
            "_view_module": "@jupyter-widgets/controls",
            "_view_module_version": "1.5.0",
            "_view_name": "ProgressView",
            "bar_style": "success",
            "description": "",
            "description_tooltip": null,
            "layout": "IPY_MODEL_45dde461533842ae892ac0ff2e11db5a",
            "max": 153499,
            "min": 0,
            "orientation": "horizontal",
            "style": "IPY_MODEL_9141c034a84445d480a344cf7e71b5de",
            "value": 153499
          }
        },
        "e5b3e42f29b042a582c47468e45b7fd0": {
          "model_module": "@jupyter-widgets/controls",
          "model_name": "HTMLModel",
          "model_module_version": "1.5.0",
          "state": {
            "_dom_classes": [],
            "_model_module": "@jupyter-widgets/controls",
            "_model_module_version": "1.5.0",
            "_model_name": "HTMLModel",
            "_view_count": null,
            "_view_module": "@jupyter-widgets/controls",
            "_view_module_version": "1.5.0",
            "_view_name": "HTMLView",
            "description": "",
            "description_tooltip": null,
            "layout": "IPY_MODEL_1c79552b01a24a3e98b983aeeb559fc8",
            "placeholder": "​",
            "style": "IPY_MODEL_4ee6ef0def1a412890202d945f65322d",
            "value": " 153499/153499 [00:31&lt;00:00, 7037.59 examples/s]"
          }
        },
        "ec096ddd62c146ad868bc95091234313": {
          "model_module": "@jupyter-widgets/base",
          "model_name": "LayoutModel",
          "model_module_version": "1.2.0",
          "state": {
            "_model_module": "@jupyter-widgets/base",
            "_model_module_version": "1.2.0",
            "_model_name": "LayoutModel",
            "_view_count": null,
            "_view_module": "@jupyter-widgets/base",
            "_view_module_version": "1.2.0",
            "_view_name": "LayoutView",
            "align_content": null,
            "align_items": null,
            "align_self": null,
            "border": null,
            "bottom": null,
            "display": null,
            "flex": null,
            "flex_flow": null,
            "grid_area": null,
            "grid_auto_columns": null,
            "grid_auto_flow": null,
            "grid_auto_rows": null,
            "grid_column": null,
            "grid_gap": null,
            "grid_row": null,
            "grid_template_areas": null,
            "grid_template_columns": null,
            "grid_template_rows": null,
            "height": null,
            "justify_content": null,
            "justify_items": null,
            "left": null,
            "margin": null,
            "max_height": null,
            "max_width": null,
            "min_height": null,
            "min_width": null,
            "object_fit": null,
            "object_position": null,
            "order": null,
            "overflow": null,
            "overflow_x": null,
            "overflow_y": null,
            "padding": null,
            "right": null,
            "top": null,
            "visibility": null,
            "width": null
          }
        },
        "2835640ecb564b05a53789d81c192703": {
          "model_module": "@jupyter-widgets/base",
          "model_name": "LayoutModel",
          "model_module_version": "1.2.0",
          "state": {
            "_model_module": "@jupyter-widgets/base",
            "_model_module_version": "1.2.0",
            "_model_name": "LayoutModel",
            "_view_count": null,
            "_view_module": "@jupyter-widgets/base",
            "_view_module_version": "1.2.0",
            "_view_name": "LayoutView",
            "align_content": null,
            "align_items": null,
            "align_self": null,
            "border": null,
            "bottom": null,
            "display": null,
            "flex": null,
            "flex_flow": null,
            "grid_area": null,
            "grid_auto_columns": null,
            "grid_auto_flow": null,
            "grid_auto_rows": null,
            "grid_column": null,
            "grid_gap": null,
            "grid_row": null,
            "grid_template_areas": null,
            "grid_template_columns": null,
            "grid_template_rows": null,
            "height": null,
            "justify_content": null,
            "justify_items": null,
            "left": null,
            "margin": null,
            "max_height": null,
            "max_width": null,
            "min_height": null,
            "min_width": null,
            "object_fit": null,
            "object_position": null,
            "order": null,
            "overflow": null,
            "overflow_x": null,
            "overflow_y": null,
            "padding": null,
            "right": null,
            "top": null,
            "visibility": null,
            "width": null
          }
        },
        "4b3e3c48894d4997b083434250895a05": {
          "model_module": "@jupyter-widgets/controls",
          "model_name": "DescriptionStyleModel",
          "model_module_version": "1.5.0",
          "state": {
            "_model_module": "@jupyter-widgets/controls",
            "_model_module_version": "1.5.0",
            "_model_name": "DescriptionStyleModel",
            "_view_count": null,
            "_view_module": "@jupyter-widgets/base",
            "_view_module_version": "1.2.0",
            "_view_name": "StyleView",
            "description_width": ""
          }
        },
        "45dde461533842ae892ac0ff2e11db5a": {
          "model_module": "@jupyter-widgets/base",
          "model_name": "LayoutModel",
          "model_module_version": "1.2.0",
          "state": {
            "_model_module": "@jupyter-widgets/base",
            "_model_module_version": "1.2.0",
            "_model_name": "LayoutModel",
            "_view_count": null,
            "_view_module": "@jupyter-widgets/base",
            "_view_module_version": "1.2.0",
            "_view_name": "LayoutView",
            "align_content": null,
            "align_items": null,
            "align_self": null,
            "border": null,
            "bottom": null,
            "display": null,
            "flex": null,
            "flex_flow": null,
            "grid_area": null,
            "grid_auto_columns": null,
            "grid_auto_flow": null,
            "grid_auto_rows": null,
            "grid_column": null,
            "grid_gap": null,
            "grid_row": null,
            "grid_template_areas": null,
            "grid_template_columns": null,
            "grid_template_rows": null,
            "height": null,
            "justify_content": null,
            "justify_items": null,
            "left": null,
            "margin": null,
            "max_height": null,
            "max_width": null,
            "min_height": null,
            "min_width": null,
            "object_fit": null,
            "object_position": null,
            "order": null,
            "overflow": null,
            "overflow_x": null,
            "overflow_y": null,
            "padding": null,
            "right": null,
            "top": null,
            "visibility": null,
            "width": null
          }
        },
        "9141c034a84445d480a344cf7e71b5de": {
          "model_module": "@jupyter-widgets/controls",
          "model_name": "ProgressStyleModel",
          "model_module_version": "1.5.0",
          "state": {
            "_model_module": "@jupyter-widgets/controls",
            "_model_module_version": "1.5.0",
            "_model_name": "ProgressStyleModel",
            "_view_count": null,
            "_view_module": "@jupyter-widgets/base",
            "_view_module_version": "1.2.0",
            "_view_name": "StyleView",
            "bar_color": null,
            "description_width": ""
          }
        },
        "1c79552b01a24a3e98b983aeeb559fc8": {
          "model_module": "@jupyter-widgets/base",
          "model_name": "LayoutModel",
          "model_module_version": "1.2.0",
          "state": {
            "_model_module": "@jupyter-widgets/base",
            "_model_module_version": "1.2.0",
            "_model_name": "LayoutModel",
            "_view_count": null,
            "_view_module": "@jupyter-widgets/base",
            "_view_module_version": "1.2.0",
            "_view_name": "LayoutView",
            "align_content": null,
            "align_items": null,
            "align_self": null,
            "border": null,
            "bottom": null,
            "display": null,
            "flex": null,
            "flex_flow": null,
            "grid_area": null,
            "grid_auto_columns": null,
            "grid_auto_flow": null,
            "grid_auto_rows": null,
            "grid_column": null,
            "grid_gap": null,
            "grid_row": null,
            "grid_template_areas": null,
            "grid_template_columns": null,
            "grid_template_rows": null,
            "height": null,
            "justify_content": null,
            "justify_items": null,
            "left": null,
            "margin": null,
            "max_height": null,
            "max_width": null,
            "min_height": null,
            "min_width": null,
            "object_fit": null,
            "object_position": null,
            "order": null,
            "overflow": null,
            "overflow_x": null,
            "overflow_y": null,
            "padding": null,
            "right": null,
            "top": null,
            "visibility": null,
            "width": null
          }
        },
        "4ee6ef0def1a412890202d945f65322d": {
          "model_module": "@jupyter-widgets/controls",
          "model_name": "DescriptionStyleModel",
          "model_module_version": "1.5.0",
          "state": {
            "_model_module": "@jupyter-widgets/controls",
            "_model_module_version": "1.5.0",
            "_model_name": "DescriptionStyleModel",
            "_view_count": null,
            "_view_module": "@jupyter-widgets/base",
            "_view_module_version": "1.2.0",
            "_view_name": "StyleView",
            "description_width": ""
          }
        }
      }
    }
  },
  "cells": [
    {
      "cell_type": "markdown",
      "metadata": {
        "id": "view-in-github",
        "colab_type": "text"
      },
      "source": [
        "<a href=\"https://colab.research.google.com/github/suyash-rgb/Sunstone-Hackathon_1.0-Rural-Healthcare-AI-Bot/blob/main/FirstAidBot.ipynb\" target=\"_parent\"><img src=\"https://colab.research.google.com/assets/colab-badge.svg\" alt=\"Open In Colab\"/></a>"
      ]
    },
    {
      "cell_type": "code",
      "execution_count": 1,
      "metadata": {
        "colab": {
          "base_uri": "https://localhost:8080/"
        },
        "id": "X4LYg1jX7hzm",
        "outputId": "7bf03d02-a9b0-4958-c6f5-7dc026523560"
      },
      "outputs": [
        {
          "output_type": "stream",
          "name": "stdout",
          "text": [
            "Mounted at /content/drive\n"
          ]
        }
      ],
      "source": [
        "from google.colab import drive\n",
        "drive.mount('/content/drive')"
      ]
    },
    {
      "cell_type": "code",
      "source": [
        "!pip install -q transformers datasets tokenizers accelerate"
      ],
      "metadata": {
        "id": "5hvuDUrX72el"
      },
      "execution_count": 2,
      "outputs": []
    },
    {
      "cell_type": "code",
      "source": [
        "import json\n",
        "from transformers import AutoTokenizer, BertForQuestionAnswering, Trainer, TrainingArguments\n",
        "from datasets import load_dataset, Dataset\n",
        "from tokenizers import Tokenizer, models, trainers, pre_tokenizers, decoders, processors\n",
        "import torch"
      ],
      "metadata": {
        "id": "qocInLBR74Ji"
      },
      "execution_count": 3,
      "outputs": []
    },
    {
      "cell_type": "code",
      "source": [
        "# Paths to your files\n",
        "file1 = '/content/drive/MyDrive/project/firstaid_squad.json'\n",
        "file2 = '/content/drive/MyDrive/project/output_squad.json'\n",
        "file3 = '/content/drive/MyDrive/project/output_squad1.json'\n",
        "output_file = '/content/drive/MyDrive/project/combined_squad.json'\n",
        "\n",
        "# Load JSONs\n",
        "with open(file1, 'r') as f:\n",
        "    data1 = json.load(f)\n",
        "with open(file2, 'r') as f:\n",
        "    data2 = json.load(f)\n",
        "with open(file3, 'r') as f:\n",
        "    data3 = json.load(f)\n",
        "\n",
        "# Combine 'data' lists\n",
        "combined_data = data1['data'] + data2['data'] + data3['data']\n",
        "\n",
        "# Create new JSON\n",
        "combined_json = {\n",
        "    'version': 'combined_v2.0',  # Or match original\n",
        "    'data': combined_data\n",
        "}\n",
        "\n",
        "# Save\n",
        "with open(output_file, 'w') as f:\n",
        "    json.dump(combined_json, f, indent=4)\n",
        "\n",
        "print(f\"Combined JSON saved to {output_file}. Total entries: {len(combined_data)}\")"
      ],
      "metadata": {
        "colab": {
          "base_uri": "https://localhost:8080/"
        },
        "id": "YjpuCqYe76lQ",
        "outputId": "c6bee6f5-dc11-4a4d-c9e8-26bbdbc31af3"
      },
      "execution_count": 4,
      "outputs": [
        {
          "output_type": "stream",
          "name": "stdout",
          "text": [
            "Combined JSON saved to /content/drive/MyDrive/project/combined_squad.json. Total entries: 46\n"
          ]
        }
      ]
    },
    {
      "cell_type": "code",
      "source": [
        "corpus_path = '/content/drive/MyDrive/project/final_combined_corpus.txt'\n",
        "vocab_size = 70000\n",
        "special_tokens = [\"[PAD]\", \"[UNK]\", \"[CLS]\", \"[SEP]\", \"[MASK]\"]  # BERT tokens\n",
        "\n",
        "# Initialize tokenizer\n",
        "tokenizer = Tokenizer(models.WordPiece(unk_token=\"[UNK]\"))\n",
        "tokenizer.pre_tokenizer = pre_tokenizers.Whitespace()\n",
        "tokenizer.decoder = decoders.WordPiece()\n",
        "\n",
        "# Trainer\n",
        "trainer = trainers.WordPieceTrainer(\n",
        "    vocab_size=vocab_size,\n",
        "    special_tokens=special_tokens,\n",
        "    min_frequency=2\n",
        ")\n",
        "\n",
        "# Train\n",
        "tokenizer.train([corpus_path], trainer=trainer)\n",
        "\n",
        "# Save\n",
        "tokenizer_path = '/content/drive/MyDrive/project/my_tokenizer'\n",
        "tokenizer.save(tokenizer_path)\n",
        "\n",
        "print(\"Tokenizer trained and saved!\")"
      ],
      "metadata": {
        "colab": {
          "base_uri": "https://localhost:8080/"
        },
        "id": "jkuBzfWL8MQK",
        "outputId": "1f073686-2e09-4aa2-92e8-65c9ca62b13a"
      },
      "execution_count": 5,
      "outputs": [
        {
          "output_type": "stream",
          "name": "stdout",
          "text": [
            "Tokenizer trained and saved!\n"
          ]
        }
      ]
    },
    {
      "cell_type": "code",
      "source": [
        "from transformers import PreTrainedTokenizerFast\n",
        "tokenizer = PreTrainedTokenizerFast(\n",
        "    tokenizer_file=tokenizer_path,\n",
        "    unk_token=\"[UNK]\",\n",
        "    pad_token=\"[PAD]\",\n",
        "    cls_token=\"[CLS]\",\n",
        "    sep_token=\"[SEP]\",\n",
        "    mask_token=\"[MASK]\"\n",
        ")\n",
        "tokenizer.save_pretrained('/content/drive/MyDrive/project/my_tokenizer_hf')"
      ],
      "metadata": {
        "colab": {
          "base_uri": "https://localhost:8080/"
        },
        "id": "bdtA805a8elg",
        "outputId": "fff1fb77-ff95-4a8c-be81-44f2d867b60b"
      },
      "execution_count": 6,
      "outputs": [
        {
          "output_type": "execute_result",
          "data": {
            "text/plain": [
              "('/content/drive/MyDrive/project/my_tokenizer_hf/tokenizer_config.json',\n",
              " '/content/drive/MyDrive/project/my_tokenizer_hf/special_tokens_map.json',\n",
              " '/content/drive/MyDrive/project/my_tokenizer_hf/tokenizer.json')"
            ]
          },
          "metadata": {},
          "execution_count": 6
        }
      ]
    },
    {
      "cell_type": "code",
      "source": [
        "tokenizer = AutoTokenizer.from_pretrained('/content/drive/MyDrive/project/my_tokenizer_hf')\n",
        "\n",
        "# Load corpus as dataset\n",
        "dataset = load_dataset('text', data_files={'train': corpus_path})['train']\n",
        "\n",
        "def tokenize_function(examples):\n",
        "    return tokenizer(examples['text'], truncation=True, max_length=128, padding='max_length')\n",
        "\n",
        "tokenized_dataset = dataset.map(tokenize_function, batched=True, remove_columns=['text'])"
      ],
      "metadata": {
        "colab": {
          "base_uri": "https://localhost:8080/",
          "height": 81,
          "referenced_widgets": [
            "ec7ad726c81d43c89314018382ab39e3",
            "8eefe274d34b47849dd86973a5e82dc1",
            "042fe400fb5a49fa86cf9215a9a2df7f",
            "b088300e7c56409db25744e6f623e53b",
            "45413f27ad24499faa3c980ca8998d51",
            "1613f1ccb37d4dfd8b9dae35fbbdce13",
            "19058ddafee0480fa9408b111ae00ae2",
            "ed457527aaf34e9f83944283e6cef74b",
            "e68f3348c76745018b6942a78f071faa",
            "1371e0a3a08b4bf88b59d7ad2ecf779f",
            "6677895ee5d84c73ba843d4709bf7c76",
            "567f7a5974cb445eb87665404f042b89",
            "ac5a790747044ec2903edac7563ed21a",
            "8da17836d29f4ddd8b7904118cb592ee",
            "e5b3e42f29b042a582c47468e45b7fd0",
            "ec096ddd62c146ad868bc95091234313",
            "2835640ecb564b05a53789d81c192703",
            "4b3e3c48894d4997b083434250895a05",
            "45dde461533842ae892ac0ff2e11db5a",
            "9141c034a84445d480a344cf7e71b5de",
            "1c79552b01a24a3e98b983aeeb559fc8",
            "4ee6ef0def1a412890202d945f65322d"
          ]
        },
        "id": "MkfkQC5W8i9n",
        "outputId": "d0a7cdcc-c4ea-468f-9ea5-43aa0a66159d"
      },
      "execution_count": 7,
      "outputs": [
        {
          "output_type": "display_data",
          "data": {
            "text/plain": [
              "Generating train split: 0 examples [00:00, ? examples/s]"
            ],
            "application/vnd.jupyter.widget-view+json": {
              "version_major": 2,
              "version_minor": 0,
              "model_id": "ec7ad726c81d43c89314018382ab39e3"
            }
          },
          "metadata": {}
        },
        {
          "output_type": "display_data",
          "data": {
            "text/plain": [
              "Map:   0%|          | 0/153499 [00:00<?, ? examples/s]"
            ],
            "application/vnd.jupyter.widget-view+json": {
              "version_major": 2,
              "version_minor": 0,
              "model_id": "567f7a5974cb445eb87665404f042b89"
            }
          },
          "metadata": {}
        }
      ]
    },
    {
      "cell_type": "code",
      "source": [
        "from transformers import BertConfig, BertForMaskedLM\n",
        "\n",
        "config = BertConfig(\n",
        "    vocab_size=tokenizer.vocab_size,\n",
        "    max_position_embeddings=512,\n",
        "    hidden_size=256,  # Smaller for Colab\n",
        "    num_hidden_layers=6,\n",
        "    num_attention_heads=8,\n",
        "    type_vocab_size=2\n",
        ")\n",
        "model = BertForMaskedLM(config)"
      ],
      "metadata": {
        "id": "yQfe9k448nOq"
      },
      "execution_count": 8,
      "outputs": []
    },
    {
      "cell_type": "markdown",
      "source": [
        "forgot to import DataCollatorForLanguageModeling"
      ],
      "metadata": {
        "id": "PRNXMreu_bfv"
      }
    },
    {
      "cell_type": "code",
      "source": [
        "from transformers import DataCollatorForLanguageModeling"
      ],
      "metadata": {
        "id": "Et8yatPD_Ss6"
      },
      "execution_count": 9,
      "outputs": []
    },
    {
      "cell_type": "markdown",
      "source": [
        "pretraining\n"
      ],
      "metadata": {
        "id": "E6gVXYis8t--"
      }
    },
    {
      "cell_type": "code",
      "source": [
        "from transformers import DataCollatorForLanguageModeling, TrainingArguments, Trainer\n",
        "\n",
        "data_collator = DataCollatorForLanguageModeling(\n",
        "    tokenizer=tokenizer,\n",
        "    mlm=True,\n",
        "    mlm_probability=0.15  # Standard for BERT\n",
        ")\n",
        "\n",
        "training_args = TrainingArguments(\n",
        "    output_dir='/content/drive/MyDrive/project/pretrained_bert',  # Adjusted to 'my_project' for consistency\n",
        "    overwrite_output_dir=True,\n",
        "    num_train_epochs=3,\n",
        "    per_device_train_batch_size=8,  # Adjust if OOM\n",
        "    save_steps=1000,\n",
        "    save_total_limit=2,\n",
        "    fp16=True,\n",
        "    report_to=\"none\"  # Disable W&B logging\n",
        ")\n",
        "\n",
        "trainer = Trainer(\n",
        "    model=model,\n",
        "    args=training_args,\n",
        "    data_collator=data_collator,\n",
        "    train_dataset=tokenized_dataset\n",
        ")\n",
        "\n",
        "trainer.train()\n",
        "trainer.save_model('/content/drive/MyDrive/project/pretrained_bert')\n",
        "tokenizer.save_pretrained('/content/drive/MyDrive/project/pretrained_bert')"
      ],
      "metadata": {
        "colab": {
          "base_uri": "https://localhost:8080/",
          "height": 132
        },
        "id": "hjVtRDrR8r9W",
        "outputId": "edd752ac-c53a-463e-dd74-eac04b27c7f2"
      },
      "execution_count": null,
      "outputs": [
        {
          "output_type": "stream",
          "name": "stderr",
          "text": [
            "/usr/local/lib/python3.12/dist-packages/torch/utils/data/dataloader.py:666: UserWarning: 'pin_memory' argument is set as true but no accelerator is found, then device pinned memory won't be used.\n",
            "  warnings.warn(warn_msg)\n"
          ]
        },
        {
          "output_type": "display_data",
          "data": {
            "text/plain": [
              "<IPython.core.display.HTML object>"
            ],
            "text/html": [
              "\n",
              "    <div>\n",
              "      \n",
              "      <progress value='136' max='57564' style='width:300px; height:20px; vertical-align: middle;'></progress>\n",
              "      [  136/57564 11:16 < 80:31:36, 0.20 it/s, Epoch 0.01/3]\n",
              "    </div>\n",
              "    <table border=\"1\" class=\"dataframe\">\n",
              "  <thead>\n",
              " <tr style=\"text-align: left;\">\n",
              "      <th>Step</th>\n",
              "      <th>Training Loss</th>\n",
              "    </tr>\n",
              "  </thead>\n",
              "  <tbody>\n",
              "  </tbody>\n",
              "</table><p>"
            ]
          },
          "metadata": {}
        }
      ]
    },
    {
      "cell_type": "markdown",
      "source": [
        "prepara QA dataset"
      ],
      "metadata": {
        "id": "dzzihEZg846a"
      }
    },
    {
      "cell_type": "code",
      "source": [
        "combined_squad_path = '/content/drive/MyDrive/project/combined_squad.json'\n",
        "\n",
        "# Load SQuAD dataset\n",
        "squad_dataset = load_dataset('squad_v2' if '2.0' in combined_json['version'] else 'squad', data_files={'train': combined_squad_path})['train']\n",
        "\n",
        "def preprocess_squad(examples):\n",
        "    questions = [q.strip() for q in examples['question']]\n",
        "    inputs = tokenizer(\n",
        "        questions,\n",
        "        examples['context'],\n",
        "        max_length=384,  # SQuAD standard\n",
        "        truncation=\"only_second\",\n",
        "        stride=128,  # For long contexts\n",
        "        return_overflowing_tokens=True,\n",
        "        return_offsets_mapping=True,\n",
        "        padding=\"max_length\"\n",
        "    )\n",
        "\n",
        "    offset_mapping = inputs.pop(\"offset_mapping\")\n",
        "    sample_map = inputs.pop(\"overflow_to_sample_mapping\")\n",
        "    answers = examples['answers']\n",
        "    start_positions = []\n",
        "    end_positions = []\n",
        "\n",
        "    for i, offset in enumerate(offset_mapping):\n",
        "        sample_idx = sample_map[i]\n",
        "        answer = answers[sample_idx]\n",
        "        if len(answer['text']) == 0:  # Handle unanswerable (SQuAD 2.0)\n",
        "            start_positions.append(0)\n",
        "            end_positions.append(0)\n",
        "        else:\n",
        "            start_char = answer['answer_start'][0]\n",
        "            end_char = start_char + len(answer['text'][0])\n",
        "            sequence_ids = inputs.sequence_ids(i)\n",
        "\n",
        "            # Find token indices\n",
        "            idx = 0\n",
        "            while sequence_ids[idx] != 1:  # Skip question tokens\n",
        "                idx += 1\n",
        "            context_start = idx\n",
        "            while sequence_ids[idx] == 1:\n",
        "                idx += 1\n",
        "            context_end = idx - 1\n",
        "\n",
        "            start_token = 0\n",
        "            end_token = 0\n",
        "            for idx, (start, end) in enumerate(offset):\n",
        "                if start <= start_char < end:\n",
        "                    start_token = idx\n",
        "                if start < end_char <= end:\n",
        "                    end_token = idx\n",
        "            start_positions.append(start_token)\n",
        "            end_positions.append(end_token)\n",
        "\n",
        "    inputs[\"start_positions\"] = start_positions\n",
        "    inputs[\"end_positions\"] = end_positions\n",
        "    return inputs\n",
        "\n",
        "tokenized_squad = squad_dataset.map(preprocess_squad, batched=True, remove_columns=squad_dataset.column_names)"
      ],
      "metadata": {
        "id": "ofR-_lJa8zOJ"
      },
      "execution_count": null,
      "outputs": []
    },
    {
      "cell_type": "markdown",
      "source": [
        "fine tuning\n"
      ],
      "metadata": {
        "id": "aD1bsBLq8sWW"
      }
    },
    {
      "cell_type": "code",
      "source": [
        "model = BertForQuestionAnswering.from_pretrained('/content/drive/MyDrive/project/pretrained_bert')\n",
        "\n",
        "training_args = TrainingArguments(\n",
        "    output_dir='/content/drive/MyDrive/project/finetuned_qa_model',\n",
        "    overwrite_output_dir=True,\n",
        "    num_train_epochs=3,\n",
        "    per_device_train_batch_size=8,\n",
        "    save_steps=500,\n",
        "    save_total_limit=2,\n",
        "    fp16=True\n",
        ")\n",
        "\n",
        "trainer = Trainer(\n",
        "    model=model,\n",
        "    args=training_args,\n",
        "    train_dataset=tokenized_squad\n",
        ")\n",
        "\n",
        "trainer.train()\n",
        "trainer.save_model('/content/drive/MyDrive/project/finetuned_qa_model')\n",
        "tokenizer.save_pretrained('/content/drive/MyDrive/project/finetuned_qa_model')"
      ],
      "metadata": {
        "id": "lj7kTyt89BRO"
      },
      "execution_count": null,
      "outputs": []
    },
    {
      "cell_type": "code",
      "source": [
        "!pip install -q fastapi uvicorn pyngrok"
      ],
      "metadata": {
        "id": "9S1X24ZcB1l8"
      },
      "execution_count": null,
      "outputs": []
    },
    {
      "cell_type": "code",
      "source": [
        "from fastapi import FastAPI\n",
        "from pydantic import BaseModel\n",
        "from transformers import pipeline\n",
        "import uvicorn\n",
        "import nest_asyncio\n",
        "\n",
        "# Apply nest_asyncio to allow running FastAPI in Colab\n",
        "nest_asyncio.apply()\n",
        "\n",
        "# Load the fine-tuned model\n",
        "qa_pipeline = pipeline('question-answering', model='/content/drive/MyDrive/project/finetuned_qa_model', tokenizer='/content/drive/MyDrive/project/finetuned_qa_model')\n",
        "\n",
        "# Initialize FastAPI app\n",
        "app = FastAPI(title=\"Extractive QA API\")\n",
        "\n",
        "# Define request model\n",
        "class QARequest(BaseModel):\n",
        "    question: str\n",
        "    context: str\n",
        "\n",
        "# Define QA endpoint\n",
        "@app.post(\"/qa\")\n",
        "async def answer_question(request: QARequest):\n",
        "    result = qa_pipeline(question=request.question, context=request.context)\n",
        "    return {\n",
        "        \"answer\": result['answer'],\n",
        "        \"score\": result['score'],\n",
        "        \"start\": result['start'],\n",
        "        \"end\": result['end']\n",
        "    }\n",
        "\n",
        "# Run the FastAPI server\n",
        "def run_server():\n",
        "    uvicorn.run(app, host=\"0.0.0.0\", port=8000)\n",
        "\n",
        "# Start server in a background thread\n",
        "import threading\n",
        "server_thread = threading.Thread(target=run_server)\n",
        "server_thread.start()"
      ],
      "metadata": {
        "id": "SUU6o8qeB2YL"
      },
      "execution_count": null,
      "outputs": []
    },
    {
      "cell_type": "code",
      "source": [
        "from pyngrok import ngrok\n",
        "\n",
        "# Set your ngrok authtoken (replace with yours)\n",
        "!ngrok authtoken YOUR_AUTH_TOKEN_HERE\n",
        "\n",
        "# Start ngrok tunnel\n",
        "public_url = ngrok.connect(8000)\n",
        "print(f\"Public URL: {public_url}\")"
      ],
      "metadata": {
        "id": "GAWUOHuZCCMB"
      },
      "execution_count": null,
      "outputs": []
    },
    {
      "cell_type": "markdown",
      "source": [
        "testing the api"
      ],
      "metadata": {
        "id": "3F1AGGZRCHTL"
      }
    },
    {
      "cell_type": "code",
      "source": [
        "import requests\n",
        "\n",
        "url = \"https://YOUR_NGROK_URL.ngrok.io/qa\"  # Replace with your ngrok URL\n",
        "payload = {\n",
        "    \"question\": \"What to do for heavy bleeding?\",\n",
        "    \"context\": \"If a person is bleeding heavily, apply pressure with a clean cloth.\"\n",
        "}\n",
        "response = requests.post(url, json=payload)\n",
        "print(response.json())"
      ],
      "metadata": {
        "id": "csFjIy0KCEBt"
      },
      "execution_count": null,
      "outputs": []
    }
  ]
}